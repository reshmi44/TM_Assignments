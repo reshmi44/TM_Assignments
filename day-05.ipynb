{
 "cells": [
  {
   "cell_type": "code",
   "execution_count": 1,
   "id": "a813eeae",
   "metadata": {
    "execution": {
     "iopub.execute_input": "2024-03-07T14:26:34.245377Z",
     "iopub.status.busy": "2024-03-07T14:26:34.244989Z",
     "iopub.status.idle": "2024-03-07T14:26:34.249798Z",
     "shell.execute_reply": "2024-03-07T14:26:34.248894Z"
    },
    "papermill": {
     "duration": 0.014286,
     "end_time": "2024-03-07T14:26:34.251987",
     "exception": false,
     "start_time": "2024-03-07T14:26:34.237701",
     "status": "completed"
    },
    "tags": []
   },
   "outputs": [],
   "source": [
    "# Task : For Loop"
   ]
  },
  {
   "cell_type": "code",
   "execution_count": 2,
   "id": "d0c08dcc",
   "metadata": {
    "execution": {
     "iopub.execute_input": "2024-03-07T14:26:34.263940Z",
     "iopub.status.busy": "2024-03-07T14:26:34.263581Z",
     "iopub.status.idle": "2024-03-07T14:26:34.275841Z",
     "shell.execute_reply": "2024-03-07T14:26:34.274966Z"
    },
    "papermill": {
     "duration": 0.020428,
     "end_time": "2024-03-07T14:26:34.277745",
     "exception": false,
     "start_time": "2024-03-07T14:26:34.257317",
     "status": "completed"
    },
    "tags": []
   },
   "outputs": [
    {
     "name": "stdout",
     "output_type": "stream",
     "text": [
      "1\n",
      "2\n",
      "3\n",
      "4\n",
      "5\n",
      "6\n",
      "7\n",
      "8\n",
      "9\n",
      "10\n"
     ]
    }
   ],
   "source": [
    "#1. **Print all numbers from 1 to 10 using a `for` loop and `range()`.**\n",
    "for i in range(1,11):\n",
    "    print(i)"
   ]
  },
  {
   "cell_type": "code",
   "execution_count": 3,
   "id": "db147cb3",
   "metadata": {
    "execution": {
     "iopub.execute_input": "2024-03-07T14:26:34.290434Z",
     "iopub.status.busy": "2024-03-07T14:26:34.289564Z",
     "iopub.status.idle": "2024-03-07T14:26:34.295100Z",
     "shell.execute_reply": "2024-03-07T14:26:34.293932Z"
    },
    "papermill": {
     "duration": 0.01381,
     "end_time": "2024-03-07T14:26:34.296999",
     "exception": false,
     "start_time": "2024-03-07T14:26:34.283189",
     "status": "completed"
    },
    "tags": []
   },
   "outputs": [
    {
     "name": "stdout",
     "output_type": "stream",
     "text": [
      "1\n",
      "3\n",
      "5\n",
      "7\n",
      "9\n",
      "11\n",
      "13\n",
      "15\n"
     ]
    }
   ],
   "source": [
    "#2. **Use a `for` loop and `range()` to print all odd numbers from 1 to 15.**\n",
    "for i in range(1,16,2):\n",
    "    print(i)"
   ]
  },
  {
   "cell_type": "code",
   "execution_count": 4,
   "id": "054295dc",
   "metadata": {
    "execution": {
     "iopub.execute_input": "2024-03-07T14:26:34.310015Z",
     "iopub.status.busy": "2024-03-07T14:26:34.308898Z",
     "iopub.status.idle": "2024-03-07T14:26:34.315143Z",
     "shell.execute_reply": "2024-03-07T14:26:34.314091Z"
    },
    "papermill": {
     "duration": 0.014659,
     "end_time": "2024-03-07T14:26:34.317062",
     "exception": false,
     "start_time": "2024-03-07T14:26:34.302403",
     "status": "completed"
    },
    "tags": []
   },
   "outputs": [
    {
     "name": "stdout",
     "output_type": "stream",
     "text": [
      "3\n",
      "6\n",
      "9\n",
      "12\n",
      "15\n"
     ]
    }
   ],
   "source": [
    "#3. **Write a program that uses `range()` to print the first 5 multiples of 3.**\n",
    "for i in range(3,16,3):\n",
    "    print(i)"
   ]
  },
  {
   "cell_type": "code",
   "execution_count": 5,
   "id": "05bfb3ce",
   "metadata": {
    "execution": {
     "iopub.execute_input": "2024-03-07T14:26:34.329923Z",
     "iopub.status.busy": "2024-03-07T14:26:34.328954Z",
     "iopub.status.idle": "2024-03-07T14:26:34.334753Z",
     "shell.execute_reply": "2024-03-07T14:26:34.333726Z"
    },
    "papermill": {
     "duration": 0.014529,
     "end_time": "2024-03-07T14:26:34.336967",
     "exception": false,
     "start_time": "2024-03-07T14:26:34.322438",
     "status": "completed"
    },
    "tags": []
   },
   "outputs": [
    {
     "name": "stdout",
     "output_type": "stream",
     "text": [
      "10\n",
      "9\n",
      "8\n",
      "7\n",
      "6\n",
      "5\n",
      "4\n",
      "3\n",
      "2\n",
      "1\n"
     ]
    }
   ],
   "source": [
    "#4. **Use a `for` loop and `range()` to print numbers from 10 down to 1.**\n",
    "for i in range(10,0,-1):\n",
    "    print(i)\n"
   ]
  },
  {
   "cell_type": "code",
   "execution_count": 6,
   "id": "5e029953",
   "metadata": {
    "execution": {
     "iopub.execute_input": "2024-03-07T14:26:34.349854Z",
     "iopub.status.busy": "2024-03-07T14:26:34.349514Z",
     "iopub.status.idle": "2024-03-07T14:26:34.355061Z",
     "shell.execute_reply": "2024-03-07T14:26:34.354092Z"
    },
    "papermill": {
     "duration": 0.014772,
     "end_time": "2024-03-07T14:26:34.357393",
     "exception": false,
     "start_time": "2024-03-07T14:26:34.342621",
     "status": "completed"
    },
    "tags": []
   },
   "outputs": [
    {
     "name": "stdout",
     "output_type": "stream",
     "text": [
      "1\n",
      "4\n",
      "9\n",
      "16\n",
      "25\n",
      "36\n",
      "49\n",
      "64\n",
      "81\n",
      "100\n"
     ]
    }
   ],
   "source": [
    "#5. **Create a list of the first 10 square numbers (1, 4, 9, ...) using `range()` and a list comprehension.**\n",
    "squares=[x**2 for x in range(1,11)]\n",
    "for i in squares:\n",
    "    print(i)"
   ]
  },
  {
   "cell_type": "code",
   "execution_count": 7,
   "id": "eb04449b",
   "metadata": {
    "execution": {
     "iopub.execute_input": "2024-03-07T14:26:34.370221Z",
     "iopub.status.busy": "2024-03-07T14:26:34.369873Z",
     "iopub.status.idle": "2024-03-07T14:26:34.374955Z",
     "shell.execute_reply": "2024-03-07T14:26:34.374017Z"
    },
    "papermill": {
     "duration": 0.013954,
     "end_time": "2024-03-07T14:26:34.376975",
     "exception": false,
     "start_time": "2024-03-07T14:26:34.363021",
     "status": "completed"
    },
    "tags": []
   },
   "outputs": [
    {
     "name": "stdout",
     "output_type": "stream",
     "text": [
      "5050\n"
     ]
    }
   ],
   "source": [
    "#6.. **Write a program that uses a `for` loop and `range()` to calculate the sum \n",
    "#of all numbers from 1 to 100.**\n",
    "sum=0\n",
    "for i in range(101):\n",
    "    sum+=i\n",
    "print(sum)"
   ]
  },
  {
   "cell_type": "code",
   "execution_count": 8,
   "id": "1248cfb2",
   "metadata": {
    "execution": {
     "iopub.execute_input": "2024-03-07T14:26:34.389932Z",
     "iopub.status.busy": "2024-03-07T14:26:34.389064Z",
     "iopub.status.idle": "2024-03-07T14:26:34.394488Z",
     "shell.execute_reply": "2024-03-07T14:26:34.393590Z"
    },
    "papermill": {
     "duration": 0.014032,
     "end_time": "2024-03-07T14:26:34.396537",
     "exception": false,
     "start_time": "2024-03-07T14:26:34.382505",
     "status": "completed"
    },
    "tags": []
   },
   "outputs": [
    {
     "name": "stdout",
     "output_type": "stream",
     "text": [
      "2\n",
      "4\n",
      "6\n",
      "8\n",
      "10\n",
      "12\n",
      "14\n",
      "16\n",
      "18\n",
      "20\n"
     ]
    }
   ],
   "source": [
    "#7. **Use `range()` in a `for` loop to print every second number from 2 to 20.**\n",
    "for i in range(2,21,2):\n",
    "    print(i)"
   ]
  },
  {
   "cell_type": "code",
   "execution_count": 9,
   "id": "a2a3a9e5",
   "metadata": {
    "execution": {
     "iopub.execute_input": "2024-03-07T14:26:34.409965Z",
     "iopub.status.busy": "2024-03-07T14:26:34.409299Z",
     "iopub.status.idle": "2024-03-07T14:26:34.415946Z",
     "shell.execute_reply": "2024-03-07T14:26:34.414074Z"
    },
    "papermill": {
     "duration": 0.015904,
     "end_time": "2024-03-07T14:26:34.418170",
     "exception": false,
     "start_time": "2024-03-07T14:26:34.402266",
     "status": "completed"
    },
    "tags": []
   },
   "outputs": [
    {
     "name": "stdout",
     "output_type": "stream",
     "text": [
      "\n",
      "\n",
      "7\n",
      "14\n",
      "21\n",
      "28\n",
      "35\n",
      "42\n",
      "49\n",
      "56\n",
      "63\n",
      "70\n",
      "\n",
      "\n",
      "7\n",
      "14\n",
      "21\n",
      "28\n",
      "35\n",
      "42\n",
      "49\n",
      "56\n",
      "63\n",
      "70\n",
      "\n",
      "\n",
      "7\n",
      "14\n",
      "21\n",
      "28\n",
      "35\n",
      "42\n",
      "49\n",
      "56\n",
      "63\n",
      "70\n",
      "\n",
      "\n",
      "7\n",
      "14\n",
      "21\n",
      "28\n",
      "35\n",
      "42\n",
      "49\n",
      "56\n",
      "63\n",
      "70\n",
      "\n",
      "\n",
      "7\n",
      "14\n",
      "21\n",
      "28\n",
      "35\n",
      "42\n",
      "49\n",
      "56\n",
      "63\n",
      "70\n",
      "\n",
      "\n",
      "7\n",
      "14\n",
      "21\n",
      "28\n",
      "35\n",
      "42\n",
      "49\n",
      "56\n",
      "63\n",
      "70\n",
      "\n",
      "\n",
      "7\n",
      "14\n",
      "21\n",
      "28\n",
      "35\n",
      "42\n",
      "49\n",
      "56\n",
      "63\n",
      "70\n",
      "\n",
      "\n",
      "7\n",
      "14\n",
      "21\n",
      "28\n",
      "35\n",
      "42\n",
      "49\n",
      "56\n",
      "63\n",
      "70\n",
      "\n",
      "\n",
      "7\n",
      "14\n",
      "21\n",
      "28\n",
      "35\n",
      "42\n",
      "49\n",
      "56\n",
      "63\n",
      "70\n",
      "\n",
      "\n",
      "7\n",
      "14\n",
      "21\n",
      "28\n",
      "35\n",
      "42\n",
      "49\n",
      "56\n",
      "63\n",
      "70\n"
     ]
    }
   ],
   "source": [
    "#8. **Write a program that uses a `for` loop and `range()` to print the multiplication table of 7 up to 10 times.**\n",
    "x=7\n",
    "for i in range(1,11):\n",
    "    print(\"\\n\")\n",
    "    for j in range(1,11):\n",
    "        print(j*x)\n",
    "    "
   ]
  },
  {
   "cell_type": "code",
   "execution_count": 10,
   "id": "487055df",
   "metadata": {
    "execution": {
     "iopub.execute_input": "2024-03-07T14:26:34.431813Z",
     "iopub.status.busy": "2024-03-07T14:26:34.430943Z",
     "iopub.status.idle": "2024-03-07T14:26:34.436702Z",
     "shell.execute_reply": "2024-03-07T14:26:34.435753Z"
    },
    "papermill": {
     "duration": 0.015478,
     "end_time": "2024-03-07T14:26:34.439402",
     "exception": false,
     "start_time": "2024-03-07T14:26:34.423924",
     "status": "completed"
    },
    "tags": []
   },
   "outputs": [
    {
     "name": "stdout",
     "output_type": "stream",
     "text": [
      "100 99 98 97 96 95 94 93 92 91 90 89 88 87 86 85 84 83 82 81 80 79 78 77 76 75 74 73 72 71 70 69 68 67 66 65 64 63 62 61 60 59 58 57 56 55 54 53 52 51 50 49 48 47 46 45 44 43 42 41 40 39 38 37 36 35 34 33 32 31 30 29 28 27 26 25 24 23 22 21 20 19 18 17 16 15 14 13 12 11 10 9 8 7 6 5 4 3 2 1 "
     ]
    }
   ],
   "source": [
    "#9. **Using `range()`, write a program that prints all numbers from 100 to 90 (inclusive) in reverse order.**\n",
    "for i in range(100,0,-1):\n",
    "    print(i,end=\" \")"
   ]
  },
  {
   "cell_type": "code",
   "execution_count": 11,
   "id": "178d67be",
   "metadata": {
    "execution": {
     "iopub.execute_input": "2024-03-07T14:26:34.453820Z",
     "iopub.status.busy": "2024-03-07T14:26:34.452908Z",
     "iopub.status.idle": "2024-03-07T14:26:34.459613Z",
     "shell.execute_reply": "2024-03-07T14:26:34.458420Z"
    },
    "papermill": {
     "duration": 0.017163,
     "end_time": "2024-03-07T14:26:34.462573",
     "exception": false,
     "start_time": "2024-03-07T14:26:34.445410",
     "status": "completed"
    },
    "tags": []
   },
   "outputs": [
    {
     "name": "stdout",
     "output_type": "stream",
     "text": [
      "No Action 1\n",
      "No Action 2\n",
      "No Action 3\n",
      "No Action 4\n",
      "Fizz 5\n",
      "No Action 6\n",
      "No Action 7\n",
      "No Action 8\n",
      "No Action 9\n",
      "Fizz 10\n",
      "No Action 11\n",
      "No Action 12\n",
      "No Action 13\n",
      "No Action 14\n",
      "FizzBuzz 15\n",
      "No Action 16\n",
      "No Action 17\n",
      "No Action 18\n",
      "No Action 19\n",
      "Fizz 20\n"
     ]
    }
   ],
   "source": [
    "#10. **Write a program that uses `range()` and a `for` loop to print all numbers from 1 to 20, but print \"Fizz\" instead of the number if it's divisible by 3, \"Buzz\" instead of the number \n",
    "#if it's divisible by 5, and \"FizzBuzz\" if it's divisible by both 3 and 5.**\n",
    "for i in range(1,21):\n",
    "    if (i%5==0 and i%3==0):\n",
    "        print(\"FizzBuzz\",i)\n",
    "    elif i%5==0:\n",
    "        print(\"Fizz\",i)\n",
    "    else:\n",
    "        print(\"No Action\",i)\n",
    "        "
   ]
  },
  {
   "cell_type": "code",
   "execution_count": 12,
   "id": "1f2dd56d",
   "metadata": {
    "execution": {
     "iopub.execute_input": "2024-03-07T14:26:34.477904Z",
     "iopub.status.busy": "2024-03-07T14:26:34.477566Z",
     "iopub.status.idle": "2024-03-07T14:26:34.482546Z",
     "shell.execute_reply": "2024-03-07T14:26:34.481540Z"
    },
    "papermill": {
     "duration": 0.016184,
     "end_time": "2024-03-07T14:26:34.485290",
     "exception": false,
     "start_time": "2024-03-07T14:26:34.469106",
     "status": "completed"
    },
    "tags": []
   },
   "outputs": [
    {
     "name": "stdout",
     "output_type": "stream",
     "text": [
      "20 22 24 26 28 30 "
     ]
    }
   ],
   "source": [
    "#11. **Use a `for` loop and `range()` to print all even numbers between 20 and 30.**\n",
    "for i in range(20,31):\n",
    "    if i%2==0:\n",
    "        print(i,end=\" \")"
   ]
  },
  {
   "cell_type": "code",
   "execution_count": 13,
   "id": "8055e97b",
   "metadata": {
    "execution": {
     "iopub.execute_input": "2024-03-07T14:26:34.499128Z",
     "iopub.status.busy": "2024-03-07T14:26:34.498460Z",
     "iopub.status.idle": "2024-03-07T14:26:34.503809Z",
     "shell.execute_reply": "2024-03-07T14:26:34.502761Z"
    },
    "papermill": {
     "duration": 0.015261,
     "end_time": "2024-03-07T14:26:34.506579",
     "exception": false,
     "start_time": "2024-03-07T14:26:34.491318",
     "status": "completed"
    },
    "tags": []
   },
   "outputs": [
    {
     "name": "stdout",
     "output_type": "stream",
     "text": [
      "10\n",
      "9\n",
      "8\n",
      "7\n",
      "6\n",
      "5\n",
      "4\n",
      "3\n",
      "2\n",
      "1\n"
     ]
    }
   ],
   "source": [
    "#12.**Write a program that uses `range()` to print the first 10 natural numbers in reverse order.**\n",
    "for i in reversed(range(1,11)):\n",
    "    print(i)"
   ]
  },
  {
   "cell_type": "markdown",
   "id": "c11b096b",
   "metadata": {
    "papermill": {
     "duration": 0.005911,
     "end_time": "2024-03-07T14:26:34.518696",
     "exception": false,
     "start_time": "2024-03-07T14:26:34.512785",
     "status": "completed"
    },
    "tags": []
   },
   "source": []
  },
  {
   "cell_type": "code",
   "execution_count": 14,
   "id": "345d685e",
   "metadata": {
    "execution": {
     "iopub.execute_input": "2024-03-07T14:26:34.532341Z",
     "iopub.status.busy": "2024-03-07T14:26:34.531968Z",
     "iopub.status.idle": "2024-03-07T14:26:34.537475Z",
     "shell.execute_reply": "2024-03-07T14:26:34.536538Z"
    },
    "papermill": {
     "duration": 0.015503,
     "end_time": "2024-03-07T14:26:34.540385",
     "exception": false,
     "start_time": "2024-03-07T14:26:34.524882",
     "status": "completed"
    },
    "tags": []
   },
   "outputs": [
    {
     "name": "stdout",
     "output_type": "stream",
     "text": [
      "The Power of 2 in 1 is 2 \n",
      "The Power of 2 in 2 is 4 \n",
      "The Power of 2 in 3 is 8 \n",
      "The Power of 2 in 4 is 16 \n",
      "The Power of 2 in 5 is 32 \n"
     ]
    }
   ],
   "source": [
    "## 13. **Use a `for` loop and `range()` to print the first 5 powers of 2 (starting from 2^0).**\n",
    "for i in range(1,6):\n",
    "    print(\"The Power of 2 in {} is {} \".format(i,2**i))"
   ]
  },
  {
   "cell_type": "code",
   "execution_count": 15,
   "id": "c088b655",
   "metadata": {
    "execution": {
     "iopub.execute_input": "2024-03-07T14:26:34.554081Z",
     "iopub.status.busy": "2024-03-07T14:26:34.553744Z",
     "iopub.status.idle": "2024-03-07T14:26:34.558728Z",
     "shell.execute_reply": "2024-03-07T14:26:34.557825Z"
    },
    "papermill": {
     "duration": 0.014513,
     "end_time": "2024-03-07T14:26:34.560971",
     "exception": false,
     "start_time": "2024-03-07T14:26:34.546458",
     "status": "completed"
    },
    "tags": []
   },
   "outputs": [
    {
     "name": "stdout",
     "output_type": "stream",
     "text": [
      "7\n",
      "14\n",
      "21\n",
      "28\n",
      "35\n",
      "42\n",
      "49\n"
     ]
    }
   ],
   "source": [
    "#14. **Write a program that uses `range()` to print all numbers from 1 to 50 that are divisible by 7.**\n",
    "for  i in range(1,50):\n",
    "    if i%7==0:\n",
    "        print(i)\n",
    "    "
   ]
  },
  {
   "cell_type": "code",
   "execution_count": 16,
   "id": "b75e2fc5",
   "metadata": {
    "execution": {
     "iopub.execute_input": "2024-03-07T14:26:34.575119Z",
     "iopub.status.busy": "2024-03-07T14:26:34.574775Z",
     "iopub.status.idle": "2024-03-07T14:26:34.579349Z",
     "shell.execute_reply": "2024-03-07T14:26:34.578391Z"
    },
    "papermill": {
     "duration": 0.014402,
     "end_time": "2024-03-07T14:26:34.581614",
     "exception": false,
     "start_time": "2024-03-07T14:26:34.567212",
     "status": "completed"
    },
    "tags": []
   },
   "outputs": [
    {
     "name": "stdout",
     "output_type": "stream",
     "text": [
      "3\n",
      "6\n",
      "9\n",
      "12\n",
      "15\n",
      "18\n",
      "21\n",
      "24\n",
      "27\n",
      "30\n"
     ]
    }
   ],
   "source": [
    "#15. **Use `range()` in a `for` loop to print every third number from 3 to 30.**\n",
    "for i in range(3,31,3):\n",
    "    print(i)"
   ]
  },
  {
   "cell_type": "code",
   "execution_count": 17,
   "id": "a612bfdb",
   "metadata": {
    "execution": {
     "iopub.execute_input": "2024-03-07T14:26:34.595819Z",
     "iopub.status.busy": "2024-03-07T14:26:34.595428Z",
     "iopub.status.idle": "2024-03-07T14:26:34.600607Z",
     "shell.execute_reply": "2024-03-07T14:26:34.599548Z"
    },
    "papermill": {
     "duration": 0.01463,
     "end_time": "2024-03-07T14:26:34.602601",
     "exception": false,
     "start_time": "2024-03-07T14:26:34.587971",
     "status": "completed"
    },
    "tags": []
   },
   "outputs": [
    {
     "name": "stdout",
     "output_type": "stream",
     "text": [
      "1\n",
      "8\n",
      "27\n",
      "64\n",
      "125\n",
      "216\n",
      "343\n",
      "512\n",
      "729\n",
      "1000\n"
     ]
    }
   ],
   "source": [
    "#16. **Write a program that uses a `for` loop and `range()` to print the first 10 cube numbers (1^3, 2^3, 3^3, ...).**\n",
    "for i in range(1,11):\n",
    "    print(i**3)"
   ]
  },
  {
   "cell_type": "code",
   "execution_count": 18,
   "id": "41b7eaa1",
   "metadata": {
    "execution": {
     "iopub.execute_input": "2024-03-07T14:26:34.617137Z",
     "iopub.status.busy": "2024-03-07T14:26:34.616529Z",
     "iopub.status.idle": "2024-03-07T14:26:34.621841Z",
     "shell.execute_reply": "2024-03-07T14:26:34.620935Z"
    },
    "papermill": {
     "duration": 0.014778,
     "end_time": "2024-03-07T14:26:34.623731",
     "exception": false,
     "start_time": "2024-03-07T14:26:34.608953",
     "status": "completed"
    },
    "tags": []
   },
   "outputs": [
    {
     "name": "stdout",
     "output_type": "stream",
     "text": [
      "- 1\n",
      "- 2\n",
      "- 3\n",
      "- 4\n",
      "- 5\n",
      "- 6\n",
      "- 7\n",
      "- 8\n",
      "- 9\n",
      "- 10\n"
     ]
    }
   ],
   "source": [
    "#17. **Write a program that uses `range()` to print all negative numbers from -1 to -10.**\n",
    "for i in range(1,11):\n",
    "    print(\"-\",i)"
   ]
  },
  {
   "cell_type": "code",
   "execution_count": 19,
   "id": "04778f24",
   "metadata": {
    "execution": {
     "iopub.execute_input": "2024-03-07T14:26:34.637998Z",
     "iopub.status.busy": "2024-03-07T14:26:34.637634Z",
     "iopub.status.idle": "2024-03-07T14:26:34.643080Z",
     "shell.execute_reply": "2024-03-07T14:26:34.641972Z"
    },
    "papermill": {
     "duration": 0.015144,
     "end_time": "2024-03-07T14:26:34.645372",
     "exception": false,
     "start_time": "2024-03-07T14:26:34.630228",
     "status": "completed"
    },
    "tags": []
   },
   "outputs": [
    {
     "name": "stdout",
     "output_type": "stream",
     "text": [
      "50\n",
      "55\n",
      "60\n",
      "65\n",
      "70\n",
      "75\n",
      "80\n",
      "85\n",
      "90\n",
      "95\n",
      "100\n"
     ]
    }
   ],
   "source": [
    "#18. **Write a program that uses `range()` and a `for` loop to print all numbers from 50 to 100 that are divisible by 5.**\n",
    "for i in range(50,101):\n",
    "    if(i%5==0):\n",
    "        print(i)"
   ]
  },
  {
   "cell_type": "code",
   "execution_count": 20,
   "id": "c29dcb1f",
   "metadata": {
    "execution": {
     "iopub.execute_input": "2024-03-07T14:26:34.661347Z",
     "iopub.status.busy": "2024-03-07T14:26:34.660958Z",
     "iopub.status.idle": "2024-03-07T14:26:34.669185Z",
     "shell.execute_reply": "2024-03-07T14:26:34.668114Z"
    },
    "papermill": {
     "duration": 0.019783,
     "end_time": "2024-03-07T14:26:34.672554",
     "exception": false,
     "start_time": "2024-03-07T14:26:34.652771",
     "status": "completed"
    },
    "tags": []
   },
   "outputs": [
    {
     "name": "stdout",
     "output_type": "stream",
     "text": [
      "\n",
      "\n",
      "9\n",
      "18\n",
      "27\n",
      "36\n",
      "45\n",
      "54\n",
      "63\n",
      "72\n",
      "81\n",
      "90\n",
      "99\n",
      "108\n",
      "\n",
      "\n",
      "9\n",
      "18\n",
      "27\n",
      "36\n",
      "45\n",
      "54\n",
      "63\n",
      "72\n",
      "81\n",
      "90\n",
      "99\n",
      "108\n",
      "\n",
      "\n",
      "9\n",
      "18\n",
      "27\n",
      "36\n",
      "45\n",
      "54\n",
      "63\n",
      "72\n",
      "81\n",
      "90\n",
      "99\n",
      "108\n",
      "\n",
      "\n",
      "9\n",
      "18\n",
      "27\n",
      "36\n",
      "45\n",
      "54\n",
      "63\n",
      "72\n",
      "81\n",
      "90\n",
      "99\n",
      "108\n",
      "\n",
      "\n",
      "9\n",
      "18\n",
      "27\n",
      "36\n",
      "45\n",
      "54\n",
      "63\n",
      "72\n",
      "81\n",
      "90\n",
      "99\n",
      "108\n",
      "\n",
      "\n",
      "9\n",
      "18\n",
      "27\n",
      "36\n",
      "45\n",
      "54\n",
      "63\n",
      "72\n",
      "81\n",
      "90\n",
      "99\n",
      "108\n",
      "\n",
      "\n",
      "9\n",
      "18\n",
      "27\n",
      "36\n",
      "45\n",
      "54\n",
      "63\n",
      "72\n",
      "81\n",
      "90\n",
      "99\n",
      "108\n",
      "\n",
      "\n",
      "9\n",
      "18\n",
      "27\n",
      "36\n",
      "45\n",
      "54\n",
      "63\n",
      "72\n",
      "81\n",
      "90\n",
      "99\n",
      "108\n",
      "\n",
      "\n",
      "9\n",
      "18\n",
      "27\n",
      "36\n",
      "45\n",
      "54\n",
      "63\n",
      "72\n",
      "81\n",
      "90\n",
      "99\n",
      "108\n",
      "\n",
      "\n",
      "9\n",
      "18\n",
      "27\n",
      "36\n",
      "45\n",
      "54\n",
      "63\n",
      "72\n",
      "81\n",
      "90\n",
      "99\n",
      "108\n",
      "\n",
      "\n",
      "9\n",
      "18\n",
      "27\n",
      "36\n",
      "45\n",
      "54\n",
      "63\n",
      "72\n",
      "81\n",
      "90\n",
      "99\n",
      "108\n",
      "\n",
      "\n",
      "9\n",
      "18\n",
      "27\n",
      "36\n",
      "45\n",
      "54\n",
      "63\n",
      "72\n",
      "81\n",
      "90\n",
      "99\n",
      "108\n"
     ]
    }
   ],
   "source": [
    "#19. **Use a `for` loop and `range()` to print the multiplication table of 9 up to 12 times.**\n",
    "for i in range(1,13):\n",
    "    print(\"\\n\")\n",
    "    for j in range(1,13):\n",
    "        print(j*9)\n",
    "        \n",
    "        \n",
    "    "
   ]
  }
 ],
 "metadata": {
  "kaggle": {
   "accelerator": "none",
   "dataSources": [
    {
     "sourceId": 165839996,
     "sourceType": "kernelVersion"
    }
   ],
   "dockerImageVersionId": 30664,
   "isGpuEnabled": false,
   "isInternetEnabled": true,
   "language": "python",
   "sourceType": "notebook"
  },
  "kernelspec": {
   "display_name": "Python 3",
   "language": "python",
   "name": "python3"
  },
  "language_info": {
   "codemirror_mode": {
    "name": "ipython",
    "version": 3
   },
   "file_extension": ".py",
   "mimetype": "text/x-python",
   "name": "python",
   "nbconvert_exporter": "python",
   "pygments_lexer": "ipython3",
   "version": "3.10.13"
  },
  "papermill": {
   "default_parameters": {},
   "duration": 3.429987,
   "end_time": "2024-03-07T14:26:35.002094",
   "environment_variables": {},
   "exception": null,
   "input_path": "__notebook__.ipynb",
   "output_path": "__notebook__.ipynb",
   "parameters": {},
   "start_time": "2024-03-07T14:26:31.572107",
   "version": "2.5.0"
  }
 },
 "nbformat": 4,
 "nbformat_minor": 5
}
